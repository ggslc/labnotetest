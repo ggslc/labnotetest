{
 "metadata": {
  "name": "",
  "signature": "sha256:a473df1cbdad1768381266b74de8227fffb1d6ce2454943c10bcca3e8a476095"
 },
 "nbformat": 3,
 "nbformat_minor": 0,
 "worksheets": [
  {
   "cells": [
    {
     "cell_type": "heading",
     "level": 1,
     "metadata": {},
     "source": [
      "State of MIMSIPNG spinup, Aug 28 2014"
     ]
    },
    {
     "cell_type": "code",
     "collapsed": false,
     "input": [
      "#gl and flowline plot functions needed for the rest of the note\n",
      "from amrfile import io as amrio\n",
      "import numpy as np\n",
      "%matplotlib inline\n",
      "import matplotlib.pyplot as plt\n",
      "import matplotlib.colors as col\n",
      "\n",
      "\n",
      "def addgl(figure,filename,lev,scale,color):\n",
      "    rhoi=900.0\n",
      "    rhoo=1000.0\n",
      "    amr = amrio.load(filename)\n",
      "    lo,hi = amrio.queryDomainCorners(amr,lev)\n",
      "    x,y,h = amrio.readBox2D(amr,lev,lo,hi,'thickness',1)\n",
      "    x,y,r = amrio.readBox2D(amr,lev,lo,hi,'Z_base',1)\n",
      "    hab = h + rhoo / rhoi * r\n",
      "    \n",
      "    time = amrio.queryTime(amr)\n",
      "    amrio.free(amr)\n",
      "    plt.contour(x/scale,y/scale,hab, [0], fig=figure ,colors=color)\n",
      "    print 'time = ',time,' lev = ',lev\n",
      "    \n",
      "    \n",
      "    \n",
      "\n",
      "def addfl(figure,filename,lev,scale,color):\n",
      "    rhoi=900.0\n",
      "    rhoo=1000.0\n",
      "    amr = amrio.load(filename)\n",
      "    lo,hi = amrio.queryDomainCorners(amr,lev)\n",
      "    lo[1] = (hi[1]+1) / 2\n",
      "    hi[1] = lo[1]+1\n",
      "    \n",
      "    x,y,s = amrio.readBox2D(amr,lev,lo,hi,'Z_surface',0)\n",
      "    x,y,b = amrio.readBox2D(amr,lev,lo,hi,'Z_bottom',0)\n",
      "    x,y,r = amrio.readBox2D(amr,lev,lo,hi,'Z_base',0)\n",
      "    \n",
      "    \n",
      "    time = amrio.queryTime(amr)\n",
      "    amrio.free(amr)\n",
      "    plt.plot(x/scale, s[0,:],color=color)\n",
      "    plt.plot(x/scale, b[0,:],color=color)\n",
      "    plt.plot(x/scale, r[0,:],color=color)\n",
      "    print 'time = ',time,' lev = ',lev\n",
      "    \n",
      "\n"
     ],
     "language": "python",
     "metadata": {
      "slideshow": {
       "slide_type": "-"
      }
     },
     "outputs": [],
     "prompt_number": 1
    },
    {
     "cell_type": "code",
     "collapsed": false,
     "input": [
      "#L1l2 model \n",
      "    \n",
      "f = plt.figure()\n",
      "scale = 1.0e+3\n",
      "lev=5\n",
      "addfl(f,'data/MISMIPNG/lazyspinup/plot.ghgChannel.l1l2.5lev.Chombo.200000.2d.hdf5',lev,scale,'red')\n",
      "lev=4\n",
      "addfl(f,'data/MISMIPNG/lazyspinup/plot.ghgChannel.l1l2.4lev.Chombo.158000.2d.hdf5',lev,scale,'pink')\n",
      "lev=3\n",
      "addfl(f,'data/MISMIPNG/lazyspinup/plot.ghgChannel.l1l2.3lev.Chombo.097000.2d.hdf5',lev,scale,'purple')\n",
      "lev=2\n",
      "addfl(f,'data/MISMIPNG/spinup/plot.ghgChannel.l1l2.2lev.Chombo.050700.2d.hdf5',lev,scale,'blue')\n",
      "lev=1\n",
      "addfl(f,'data/MISMIPNG/spinup/plot.ghgChannel.l1l2.1lev.Chombo.062000.2d.hdf5',lev,scale,'green')\n",
      "lev=0\n",
      "addfl(f,'data/MISMIPNG/spinup/plot.ghgChannel.l1l2.0lev.Chombo.088000.2d.hdf5',lev,scale,'orange')\n",
      "\n",
      "plt.axis([1000,1300,-1200,500])"
     ],
     "language": "python",
     "metadata": {},
     "outputs": [
      {
       "output_type": "stream",
       "stream": "stdout",
       "text": [
        "time =  21065.6446056  lev =  5\n",
        "time = "
       ]
      },
      {
       "output_type": "stream",
       "stream": "stdout",
       "text": [
        " 23686.9375  lev =  4\n",
        "time = "
       ]
      },
      {
       "output_type": "stream",
       "stream": "stdout",
       "text": [
        " 22441.4375  lev =  3\n",
        "time =  20003.875  lev =  2\n",
        "time = "
       ]
      },
      {
       "output_type": "stream",
       "stream": "stdout",
       "text": [
        " 19916.375  lev =  2\n",
        "time =  25999.125  lev =  1\n",
        "time =  49937.5  lev =  0\n"
       ]
      },
      {
       "metadata": {},
       "output_type": "pyout",
       "prompt_number": 12,
       "text": [
        "[1000, 1300, -1200, 500]"
       ]
      },
      {
       "metadata": {},
       "output_type": "display_data",
       "png": "[encoded data removed]",
       "text": [
        "<matplotlib.figure.Figure at 0x8f33910>"
       ]
      }
     ],
     "prompt_number": 12
    },
    {
     "cell_type": "markdown",
     "metadata": {},
     "source": [
      "Need more time on 2lev-5lev. Jobs submitted on newblue.\n",
      "\n",
      "4 lev downstream from 5lev, but 3000 years later."
     ]
    },
    {
     "cell_type": "code",
     "collapsed": false,
     "input": [
      "#SSA model \n",
      "    \n",
      "f = plt.figure()\n",
      "scale = 1.0e+3\n",
      "lev=5\n",
      "addfl(f,'data/MISMIPNG/lazyspinup/plot.ghgChannel.ssa.5lev.Chombo.184000.2d.hdf5',lev,scale,'red')\n",
      "lev=4\n",
      "addfl(f,'data/MISMIPNG/lazyspinup/plot.ghgChannel.ssa.4lev.Chombo.126000.2d.hdf5',lev,scale,'pink')\n",
      "lev=3\n",
      "addfl(f,'data/MISMIPNG/lazyspinup/plot.ghgChannel.ssa.3lev.Chombo.090000.2d.hdf5',lev,scale,'purple')\n",
      "lev=2\n",
      "addfl(f,'data/MISMIPNG/spinup/plot.ghgChannel.ssa.2lev.Chombo.083000.2d.hdf5',lev,scale,'blue')\n",
      "lev=1\n",
      "addfl(f,'data/MISMIPNG/spinup/plot.ghgChannel.ssa.1lev.Chombo.092000.2d.hdf5',lev,scale,'green')\n",
      "lev=0\n",
      "addfl(f,'data/MISMIPNG/spinup/plot.ghgChannel.ssa.0lev.Chombo.088000.2d.hdf5',lev,scale,'orange')\n",
      "\n",
      "plt.axis([1000,1300,-1200,500])"
     ],
     "language": "python",
     "metadata": {},
     "outputs": [
      {
       "output_type": "stream",
       "stream": "stdout",
       "text": [
        "time =  20132.4023438  lev =  5\n",
        "time = "
       ]
      },
      {
       "output_type": "stream",
       "stream": "stdout",
       "text": [
        " 21687.046875  lev =  4\n",
        "time = "
       ]
      },
      {
       "output_type": "stream",
       "stream": "stdout",
       "text": [
        " 21950.46875  lev =  3\n",
        "time =  24643.5  lev =  2\n",
        "time = "
       ]
      },
      {
       "output_type": "stream",
       "stream": "stdout",
       "text": [
        " 34477.125  lev =  1\n",
        "time =  49937.5  lev =  0\n"
       ]
      },
      {
       "metadata": {},
       "output_type": "pyout",
       "prompt_number": 14,
       "text": [
        "[1000, 1300, -1200, 500]"
       ]
      },
      {
       "metadata": {},
       "output_type": "display_data",
       "png": "[encoded data removed]",
       "text": [
        "<matplotlib.figure.Figure at 0x704b750>"
       ]
      }
     ],
     "prompt_number": 14
    },
    {
     "cell_type": "markdown",
     "metadata": {},
     "source": [
      "Need more time on 2lev-5lev. Jobs submitted on newblue.\n",
      "\n",
      "3 lev downstream from 5 lev, but 2000 years later."
     ]
    }
   ],
   "metadata": {}
  }
 ]
}