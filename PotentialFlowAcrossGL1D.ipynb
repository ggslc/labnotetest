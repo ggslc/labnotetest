{
 "metadata": {
  "name": ""
 },
 "nbformat": 3,
 "nbformat_minor": 0,
 "worksheets": [
  {
   "cells": [
    {
     "cell_type": "markdown",
     "metadata": {},
     "source": [
      "1D steady potential flow over -X < x < 2X, using a Darcy-Weisbach law for turbulent flow in pipes to relate flux to potential\n",
      "\n",
      "$\\nabla _x ( - k h^{5/4} |\\nabla _x \\phi|^{-1/2} \\nabla _x \\phi ) = m - a \\phi $ \n",
      "\n",
      "$\\phi(-X) = 0$\n",
      "\n",
      "$\\nabla _x \\phi(2 X) = 0$\n",
      "\n",
      "Domain is divided into three regions : ice sheet (-X < x < 0), ice shelf (0 < x < X), sea (X < x < 2X). The D-W law only makes sense in the $x < 0$ ice sheet region? Mauro's GlADs paper (and others) determine $h$ (in steady state) through\n",
      "\n",
      "$u_b (h_r - h) / l_r = h A |N|^3$\n",
      "\n",
      "that is, cavities are opened by sliding (ice speed $u_b$) over bumps with height $h_r$ and length $l_r$\n",
      "\n",
      "Not sure what to use under the shelf, especially how to relate h to $\\phi$. One obvious choice is to use the same law, and determine $h$ by setting\n",
      "\n",
      "$ m  = h A |\\rho g H h/l_r|^3$\n",
      "\n",
      "if $l_r = 100 m, m = h^4 *(1e-16 * (1e4 * 1e3 * 1e-2)^2)$ so $h^4 = 100 / (1e-1)$ so $h = 10$  \n",
      "\n",
      "that is, cavities opened by melt and closed by creep. \n",
      "\n",
      "100 m/a = h * 1e-16 * (1e4 * 1e3)^3 -> h =  1.0e7\n",
      "\n",
      "However, this is _not_ the plume physics, where plume dimensions are determined by water flow (not ice flow). This might not matter if all we want to do is route water from and imposed melt rate, but since $h$ is _not_ the plume thickness, we can't use the plume formulae directly to compute $m$\n",
      "\n",
      "\n"
     ]
    },
    {
     "cell_type": "code",
     "collapsed": false,
     "input": [
      "#imports needed for the rest of the note\n",
      "import numpy as np\n",
      "%matplotlib inline\n",
      "import matplotlib.pyplot as plt\n",
      "import matplotlib.colors as col\n",
      "\n",
      "\n",
      "rhow = 1000.0\n",
      "rhoo = 1028.0\n",
      "rhoi = 918.0\n",
      "g = 9.81\n",
      "spyr = 3600 * 25 * 365.25\n",
      "ub = 100.0 / spyr\n",
      "A = 1.0e-16 / spyr\n",
      "hr = 0.2\n",
      "lr = 10.0\n",
      "\n",
      "#DoFs per subdomain\n",
      "m = 32\n",
      "X = 60.0e+3\n",
      "dx = 1.0 / m * X\n",
      "\n",
      "#3 subdomains : sheet,shelf,sea\n",
      "n = 3*m\n",
      "\n",
      "\n"
     ],
     "language": "python",
     "metadata": {},
     "outputs": [],
     "prompt_number": 28
    },
    {
     "cell_type": "code",
     "collapsed": false,
     "input": [
      "#geometry\n",
      "B = np.zeros(n)\n",
      "H = np.zeros(n)\n",
      "x = np.arange(0,n)*dx + 0.5*dx - X\n",
      "\n",
      "V = 1.0e+3\n",
      "\n",
      "#sheet\n",
      "B[0:m] = (- x[0:m]/X - 1.0) * V\n",
      "H[0:m] = - rhoo/rhoi * B[0:m] - x[0:m]/X * V\n",
      "\n",
      "#shelf\n",
      "B[m:(2*m)] = (x[m:(2*m)]/X - 1.0) * V\n",
      "H[m:(2*m)]  = - rhoo/rhoi * B[m:(2*m)] \n",
      "\n",
      "#sea\n",
      "B[2*m:n] = 0.0 \n",
      "\n",
      "plt.plot(x,B)\n",
      "plt.plot(x,B+H)\n",
      "\n",
      "plt.show()"
     ],
     "language": "python",
     "metadata": {},
     "outputs": [
      {
       "metadata": {},
       "output_type": "display_data",
       "png": "[encoded data removed]",
       "text": [
        "<matplotlib.figure.Figure at 0x7f49ec1c6e50>"
       ]
      }
     ],
     "prompt_number": 16
    },
    {
     "cell_type": "code",
     "collapsed": false,
     "input": [
      "\n",
      "\n",
      "#sheet \n",
      "ksheet = 0.01\n",
      "msheet = 1.0 / spyr\n",
      "asheet = 0.0\n",
      "#shelf\n",
      "kshelf = ksheet \n",
      "mshelf = 1.0e+2 / spyr\n",
      "ashelf = 0.0 / spyr\n",
      "#sea\n",
      "msea = 0.0\n",
      "asea = 1.0e-2 / spyr\n",
      "\n",
      "mr = np.zeros([n])\n",
      "mr[0:m] = msheet\n",
      "mr[m:2*m] = mshelf/H[m] * H[m:2*m]\n",
      "mr[2*m:n] = msea\n",
      "\n",
      "a = np.zeros([n])\n",
      "a[0:m] = asheet\n",
      "a[m:2*m] = ashelf\n",
      "a[2*m:n] = asea\n",
      "\n",
      "\n",
      "h = np.zeros([n])\n",
      "h = h + 0.2\n",
      "gradp = np.zeros([n+1]) + 1.0e6/X\n",
      "p = np.zeros([n])\n",
      "nj = 30\n",
      "Rn = np.zeros(nj)\n",
      "\n",
      "for j in xrange(0,nj):\n",
      "\n",
      "    \n",
      "    kf = np.zeros([n+1]) + 0.2\n",
      "    kf[0:m] = ksheet * (h[0:m])*(5.0/4.0)*np.abs(gradp[0:m])**0.5\n",
      "    kl = ksheet * (h[m])*(5.0/4.0)*np.abs(gradp[m])**0.5\n",
      "    kr = kshelf*(h[m+1])*(5.0/4.0)*np.abs(gradp[m+1])**0.5\n",
      "    kf[m] = 2.0 * kl*kr / (kl + kr)\n",
      "    kf[(m+1):(2*m+1)] = kshelf*(h[m:2*m])**(5.0/4.0) * np.abs(gradp[m:2*m])**0.5\n",
      "    \n",
      "    \n",
      "    \n",
      "    L = np.zeros([n,n])\n",
      "    r = np.zeros([n])\n",
      "\n",
      "#no flux BC at low side\n",
      "    L[0,0] = 1\n",
      "    L[0,1] = -1\n",
      "    r[0] = 0\n",
      "\n",
      "    for i in xrange(1,n-1):\n",
      "        L[i,i-1] = -kf[i]\n",
      "        L[i,i+1] = -kf[i+1]\n",
      "        L[i,i] = dx**2 * a[i] - L[i,i-1] -  L[i,i+1] \n",
      "        r[i] = dx**2 * mr[i]\n",
      "    \n",
      "    \n",
      "#high BC \n",
      "    L[n-1,n-1] = 1.0\n",
      "    L[n-1,n-2] = 0.0\n",
      "    r[n-1] = 1.0\n",
      "            \n",
      "    res = np.dot(L,p) - r\n",
      "    Rn[j] = sum(res**2)\n",
      "    p = np.linalg.solve(L, r)\n",
      "\n",
      "\n",
      "    #driving potential\n",
      "    p0 = np.zeros(n)\n",
      "    p0[0:m] = rhow * g * B[0:m] + rhoi * g * H[0:m] \n",
      "    p0[m:3*m] = (rhow-rhoo)*g * B[m:3*m] \n",
      "\n",
      "\n",
      "    #effective pressure\n",
      "    N = p0 - p\n",
      "    #N = np.where(N < 1.0, 1.0, N)\n",
      "    \n",
      "    #cavity height\n",
      "    h[0:m] = hr*ub / (lr * A * N[0:m]**3 + ub + 1.0e-10)\n",
      "    \n",
      "    asp = 1.0e-3\n",
      "    hc =  (mr[m:2*m] / ( A * ((rhoi*g*H[m:2*m]*asp)**6)**0.5 + 1.0e-10))**0.25\n",
      "    \n",
      "    h[m:2*m] = hc\n",
      "    hmax = 100000.0\n",
      "    h = np.where(h > hmax, hmax, h)\n",
      "    \n",
      "    gradp[1:n] = (p[1:n] - p[0:(n-1)])/dx \n",
      "    \n",
      "    plt.subplot(221)\n",
      "    plt.plot(x/X,p,'b-')\n",
      "    plt.plot(x/X,N,'r--')\n",
      "    plt.plot(x/X,p0,'g--')\n",
      "    \n",
      "    sf=plt.subplot(222)\n",
      "    plt.plot(x/X,h)\n",
      "    #plt.plot(H[m:2*m]/H[m:2*m]**3)\n",
      "    #sf.set_yscale('log')    \n",
      "    \n",
      "    plt.subplot(223)\n",
      "    plt.plot(x/X,res)\n",
      "\n",
      "sf = plt.subplot(224)    \n",
      "plt.plot(Rn/Rn[0])\n",
      "sf.set_yscale('log')"
     ],
     "language": "python",
     "metadata": {},
     "outputs": [
      {
       "metadata": {},
       "output_type": "display_data",
       "png": "[encoded data removed]",
       "text": [
        "<matplotlib.figure.Figure at 0x7f49ec730c10>"
       ]
      }
     ],
     "prompt_number": 30
    },
    {
     "cell_type": "code",
     "collapsed": false,
     "input": [
      "\n",
      "\n",
      "plt.plot(-kf * gradp)"
     ],
     "language": "python",
     "metadata": {},
     "outputs": [
      {
       "metadata": {},
       "output_type": "pyout",
       "prompt_number": 22,
       "text": [
        "[<matplotlib.lines.Line2D at 0x7f49ebc95ad0>]"
       ]
      },
      {
       "metadata": {},
       "output_type": "display_data",
       "png": "[encoded data removed]",
       "text": [
        "<matplotlib.figure.Figure at 0x7f4a0a115e10>"
       ]
      }
     ],
     "prompt_number": 22
    },
    {
     "cell_type": "code",
     "collapsed": false,
     "input": [
      "-\n",
      "\n",
      "#water pressure\n",
      "\n",
      "\n",
      "plt.plot(x,p)\n",
      "plt.plot(x,p0)\n",
      "plt.plot(x,N,'r--')"
     ],
     "language": "python",
     "metadata": {},
     "outputs": [
      {
       "ename": "SyntaxError",
       "evalue": "invalid syntax (<ipython-input-24-3eafdf9170ac>, line 1)",
       "output_type": "pyerr",
       "traceback": [
        "\u001b[0;36m  File \u001b[0;32m\"<ipython-input-24-3eafdf9170ac>\"\u001b[0;36m, line \u001b[0;32m1\u001b[0m\n\u001b[0;31m    -\u001b[0m\n\u001b[0m     ^\u001b[0m\n\u001b[0;31mSyntaxError\u001b[0m\u001b[0;31m:\u001b[0m invalid syntax\n"
       ]
      }
     ],
     "prompt_number": 24
    },
    {
     "cell_type": "code",
     "collapsed": false,
     "input": [
      "plt.plot(x[m:n],(N[m:n])/(g*(rhoo-rhow)))\n",
      "\n"
     ],
     "language": "python",
     "metadata": {},
     "outputs": [
      {
       "metadata": {},
       "output_type": "pyout",
       "prompt_number": 26,
       "text": [
        "[<matplotlib.lines.Line2D at 0x7f49ec5706d0>]"
       ]
      },
      {
       "metadata": {},
       "output_type": "display_data",
       "png": "[encoded data removed]",
       "text": [
        "<matplotlib.figure.Figure at 0x7f49ec08e610>"
       ]
      }
     ],
     "prompt_number": 26
    },
    {
     "cell_type": "code",
     "collapsed": false,
     "input": [
      "h = hr*ub / (lr * A * N**3 + ub)\n",
      "\n",
      "plt.plot(x,mr*spyr)"
     ],
     "language": "python",
     "metadata": {},
     "outputs": [
      {
       "metadata": {},
       "output_type": "pyout",
       "prompt_number": 15,
       "text": [
        "[<matplotlib.lines.Line2D at 0x7f19523bcc90>]"
       ]
      },
      {
       "metadata": {},
       "output_type": "display_data",
       "png": "[encoded data removed]",
       "text": [
        "<matplotlib.figure.Figure at 0x7f196ff4a450>"
       ]
      }
     ],
     "prompt_number": 15
    },
    {
     "cell_type": "code",
     "collapsed": false,
     "input": [
      "flux = - kf[1:n] * (p[1:n] - p[0:n-1])/dx\n",
      "xf = 0.5*(x[1:n] + x[0:n-1])\n",
      "\n",
      "plt.plot(xf,flux)\n",
      "\n",
      "mgl = sum(mr[0:m]) * dx\n",
      "plt.plot(x,mgl + np.zeros(n))\n",
      "\n",
      "mcf = sum(mr[0:2*m]) * dx\n",
      "plt.plot(x,mcf + np.zeros(n))\n",
      "\n",
      "moo = sum(a[2*m:n] * p[2*m:n]) * dx\n",
      "plt.plot(x,moo * np.zeros(n))\n",
      "\n",
      "plt.plot(x,a*p*dx)\n"
     ],
     "language": "python",
     "metadata": {},
     "outputs": [
      {
       "ename": "NameError",
       "evalue": "name 'p' is not defined",
       "output_type": "pyerr",
       "traceback": [
        "\u001b[0;31m---------------------------------------------------------------------------\u001b[0m\n\u001b[0;31mNameError\u001b[0m                                 Traceback (most recent call last)",
        "\u001b[0;32m<ipython-input-14-98ca47872006>\u001b[0m in \u001b[0;36m<module>\u001b[0;34m()\u001b[0m\n\u001b[0;32m----> 1\u001b[0;31m \u001b[0mflux\u001b[0m \u001b[0;34m=\u001b[0m \u001b[0;34m-\u001b[0m \u001b[0mkf\u001b[0m\u001b[0;34m[\u001b[0m\u001b[0;36m1\u001b[0m\u001b[0;34m:\u001b[0m\u001b[0mn\u001b[0m\u001b[0;34m]\u001b[0m \u001b[0;34m*\u001b[0m \u001b[0;34m(\u001b[0m\u001b[0mp\u001b[0m\u001b[0;34m[\u001b[0m\u001b[0;36m1\u001b[0m\u001b[0;34m:\u001b[0m\u001b[0mn\u001b[0m\u001b[0;34m]\u001b[0m \u001b[0;34m-\u001b[0m \u001b[0mp\u001b[0m\u001b[0;34m[\u001b[0m\u001b[0;36m0\u001b[0m\u001b[0;34m:\u001b[0m\u001b[0mn\u001b[0m\u001b[0;34m-\u001b[0m\u001b[0;36m1\u001b[0m\u001b[0;34m]\u001b[0m\u001b[0;34m)\u001b[0m\u001b[0;34m/\u001b[0m\u001b[0mdx\u001b[0m\u001b[0;34m\u001b[0m\u001b[0m\n\u001b[0m\u001b[1;32m      2\u001b[0m \u001b[0mxf\u001b[0m \u001b[0;34m=\u001b[0m \u001b[0;36m0.5\u001b[0m\u001b[0;34m*\u001b[0m\u001b[0;34m(\u001b[0m\u001b[0mx\u001b[0m\u001b[0;34m[\u001b[0m\u001b[0;36m1\u001b[0m\u001b[0;34m:\u001b[0m\u001b[0mn\u001b[0m\u001b[0;34m]\u001b[0m \u001b[0;34m+\u001b[0m \u001b[0mx\u001b[0m\u001b[0;34m[\u001b[0m\u001b[0;36m0\u001b[0m\u001b[0;34m:\u001b[0m\u001b[0mn\u001b[0m\u001b[0;34m-\u001b[0m\u001b[0;36m1\u001b[0m\u001b[0;34m]\u001b[0m\u001b[0;34m)\u001b[0m\u001b[0;34m\u001b[0m\u001b[0m\n\u001b[1;32m      3\u001b[0m \u001b[0;34m\u001b[0m\u001b[0m\n\u001b[1;32m      4\u001b[0m \u001b[0mplt\u001b[0m\u001b[0;34m.\u001b[0m\u001b[0mplot\u001b[0m\u001b[0;34m(\u001b[0m\u001b[0mxf\u001b[0m\u001b[0;34m,\u001b[0m\u001b[0mflux\u001b[0m\u001b[0;34m)\u001b[0m\u001b[0;34m\u001b[0m\u001b[0m\n\u001b[1;32m      5\u001b[0m \u001b[0;34m\u001b[0m\u001b[0m\n",
        "\u001b[0;31mNameError\u001b[0m: name 'p' is not defined"
       ]
      }
     ],
     "prompt_number": 14
    },
    {
     "cell_type": "code",
     "collapsed": false,
     "input": [],
     "language": "python",
     "metadata": {},
     "outputs": [],
     "prompt_number": 14
    },
    {
     "cell_type": "markdown",
     "metadata": {},
     "source": [
      "1D steady potential flow :  $\\nabla _x ( - k(x) \\nabla _x \\phi(x) ) = m(x) - a(x) \\phi (x)$ "
     ]
    },
    {
     "cell_type": "code",
     "collapsed": false,
     "input": [
      "mr[m:2*m] / (A *  (rhoi*g*H[m:2*m]**3) )\n",
      "\n"
     ],
     "language": "python",
     "metadata": {},
     "outputs": [
      {
       "metadata": {},
       "output_type": "pyout",
       "prompt_number": 72,
       "text": [
        "array([  3.04205643e-08,   3.04205643e-08,   3.04205643e-08,\n",
        "         3.04205643e-08,   3.04205643e-08,   3.04205643e-08,\n",
        "         3.04205643e-08,   3.04205643e-08,   3.04205643e-08,\n",
        "         3.04205643e-08,   3.04205643e-08,   3.04205643e-08,\n",
        "         3.04205643e-08,   3.04205643e-08,   3.04205643e-08,\n",
        "         3.04205643e-08,   3.04205643e-08,   3.04205643e-08,\n",
        "         3.04205643e-08,   3.04205643e-08,   3.04205643e-08,\n",
        "         3.04205643e-08,   3.04205643e-08,   3.04205643e-08,\n",
        "         3.04205643e-08,   3.04205643e-08,   3.04205643e-08,\n",
        "         3.04205643e-08,   3.04205643e-08,   3.04205643e-08,\n",
        "         3.04205643e-08,   3.04205643e-08,   3.04205643e-06,\n",
        "         2.94548321e-06,   2.84890999e-06,   2.75233677e-06,\n",
        "         2.65576355e-06,   2.55919033e-06,   2.46261711e-06,\n",
        "         2.36604389e-06,   2.26947067e-06,   2.17289745e-06,\n",
        "         2.07632423e-06,   1.97975101e-06,   1.88317779e-06,\n",
        "         1.78660457e-06,   1.69003135e-06,   1.59345813e-06,\n",
        "         1.49688491e-06,   1.40031169e-06,   1.30373847e-06,\n",
        "         1.20716525e-06,   1.11059203e-06,   1.01401881e-06,\n",
        "         9.17445590e-07,   8.20872370e-07,   7.24299150e-07,\n",
        "         6.27725930e-07,   5.31152710e-07,   4.34579490e-07,\n",
        "         3.38006270e-07,   2.41433050e-07,   1.44859830e-07,\n",
        "         4.82866100e-08,   0.00000000e+00,   0.00000000e+00,\n",
        "         0.00000000e+00,   0.00000000e+00,   0.00000000e+00,\n",
        "         0.00000000e+00,   0.00000000e+00,   0.00000000e+00,\n",
        "         0.00000000e+00,   0.00000000e+00,   0.00000000e+00,\n",
        "         0.00000000e+00,   0.00000000e+00,   0.00000000e+00,\n",
        "         0.00000000e+00,   0.00000000e+00,   0.00000000e+00,\n",
        "         0.00000000e+00,   0.00000000e+00,   0.00000000e+00,\n",
        "         0.00000000e+00,   0.00000000e+00,   0.00000000e+00,\n",
        "         0.00000000e+00,   0.00000000e+00,   0.00000000e+00,\n",
        "         0.00000000e+00,   0.00000000e+00,   0.00000000e+00,\n",
        "         0.00000000e+00,   0.00000000e+00,   0.00000000e+00])"
       ]
      }
     ],
     "prompt_number": 72
    },
    {
     "cell_type": "code",
     "collapsed": false,
     "input": [],
     "language": "python",
     "metadata": {},
     "outputs": []
    }
   ],
   "metadata": {}
  }
 ]
}