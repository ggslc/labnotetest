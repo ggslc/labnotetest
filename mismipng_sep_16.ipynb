{
 "metadata": {
  "name": "",
  "signature": "sha256:a362492eef76c363e12da079cab1365d806fa333768a6fce7ab510261970cfff"
 },
 "nbformat": 3,
 "nbformat_minor": 0,
 "worksheets": [
  {
   "cells": [
    {
     "cell_type": "heading",
     "level": 1,
     "metadata": {},
     "source": [
      "State of MIMSIPNG spinup, Sep 16 2014"
     ]
    },
    {
     "cell_type": "code",
     "collapsed": false,
     "input": [
      "#gl and flowline plot functions needed for the rest of the note\n",
      "from amrfile import io as amrio\n",
      "import numpy as np\n",
      "%matplotlib inline\n",
      "import matplotlib.pyplot as plt\n",
      "import matplotlib.colors as col\n",
      "\n",
      "\n",
      "def addgl(figure,filename,lev,scale,color):\n",
      "    rhoi=900.0\n",
      "    rhoo=1000.0\n",
      "    amr = amrio.load(filename)\n",
      "    lo,hi = amrio.queryDomainCorners(amr,lev)\n",
      "    x,y,h = amrio.readBox2D(amr,lev,lo,hi,'thickness',1)\n",
      "    x,y,r = amrio.readBox2D(amr,lev,lo,hi,'Z_base',1)\n",
      "    hab = h + rhoo / rhoi * r\n",
      "    \n",
      "    time = amrio.queryTime(amr)\n",
      "    amrio.free(amr)\n",
      "    plt.contour(x/scale,y/scale,hab, [0], fig=figure ,colors=color)\n",
      "    print 'time = ',time,' lev = ',lev\n",
      "    \n",
      "    \n",
      "    \n",
      "\n",
      "def addfl(figure,filename,lev,scale,color):\n",
      "    rhoi=900.0\n",
      "    rhoo=1000.0\n",
      "    amr = amrio.load(filename)\n",
      "    lo,hi = amrio.queryDomainCorners(amr,lev)\n",
      "    lo[1] = (hi[1]+1) / 2\n",
      "    hi[1] = lo[1]+1\n",
      "    \n",
      "    x,y,s = amrio.readBox2D(amr,lev,lo,hi,'Z_surface',0)\n",
      "    x,y,b = amrio.readBox2D(amr,lev,lo,hi,'Z_bottom',0)\n",
      "    x,y,r = amrio.readBox2D(amr,lev,lo,hi,'Z_base',0)\n",
      "    \n",
      "    \n",
      "    time = amrio.queryTime(amr)\n",
      "    amrio.free(amr)\n",
      "    plt.plot(x/scale, s[0,:],color=color)\n",
      "    plt.plot(x/scale, b[0,:],color=color)\n",
      "    plt.plot(x/scale, r[0,:],color=color)\n",
      "    print 'time = ',time,' lev = ',lev\n",
      "    \n",
      "\n"
     ],
     "language": "python",
     "metadata": {
      "slideshow": {
       "slide_type": "-"
      }
     },
     "outputs": [],
     "prompt_number": 1
    },
    {
     "cell_type": "code",
     "collapsed": false,
     "input": [
      "#L1l2 model \n",
      "print ''\n",
      "print ''\n",
      "f = plt.figure()\n",
      "scale = 1.0e+3\n",
      "lev=5\n",
      "addfl(f,'data/MISMIPNG/lazyspinup/plot.ghgChannel.l1l2.5lev.Chombo.391000.2d.hdf5',lev,scale,'red')\n",
      "lev=4\n",
      "addfl(f,'data/MISMIPNG/lazyspinup/plot.ghgChannel.l1l2.4lev.Chombo.298000.2d.hdf5',lev,scale,'pink')\n",
      "lev=3\n",
      "addfl(f,'data/MISMIPNG/lazyspinup/plot.ghgChannel.l1l2.3lev.Chombo.182000.2d.hdf5',lev,scale,'purple')\n",
      "lev=2\n",
      "addfl(f,'data/MISMIPNG/spinup/plot.ghgChannel.l1l2.2lev.Chombo.062000.2d.hdf5',lev,scale,'blue')\n",
      "lev=1\n",
      "addfl(f,'data/MISMIPNG/spinup/plot.ghgChannel.l1l2.1lev.Chombo.062000.2d.hdf5',lev,scale,'green')\n",
      "lev=0\n",
      "addfl(f,'data/MISMIPNG/spinup/plot.ghgChannel.l1l2.0lev.Chombo.088000.2d.hdf5',lev,scale,'orange')\n",
      "\n",
      "plt.axis([1000,1300,-1200,500])"
     ],
     "language": "python",
     "metadata": {},
     "outputs": [
      {
       "output_type": "stream",
       "stream": "stdout",
       "text": [
        "\n",
        "\n",
        "time = "
       ]
      },
      {
       "output_type": "stream",
       "stream": "stdout",
       "text": [
        " 26524.8404293  lev =  5\n",
        "time = "
       ]
      },
      {
       "output_type": "stream",
       "stream": "stdout",
       "text": [
        " 32430.15625  lev =  4\n",
        "time = "
       ]
      },
      {
       "output_type": "stream",
       "stream": "stdout",
       "text": [
        " 27774.0625  lev =  3\n",
        "time = "
       ]
      },
      {
       "output_type": "stream",
       "stream": "stdout",
       "text": [
        " 21416.375  lev =  2\n",
        "time =  25999.125  lev =  1\n",
        "time =  49937.5  lev =  0\n"
       ]
      },
      {
       "metadata": {},
       "output_type": "pyout",
       "prompt_number": 7,
       "text": [
        "[1000, 1300, -1200, 500]"
       ]
      },
      {
       "metadata": {},
       "output_type": "display_data",
       "png": "[encoded data removed]",
       "text": [
        "<matplotlib.figure.Figure at 0x23f0dd0>"
       ]
      }
     ],
     "prompt_number": 7
    },
    {
     "cell_type": "markdown",
     "metadata": {},
     "source": [
      "Need more time on 5lev (try to get to 30,000 years?). Jobs submitted on newblue.\n",
      "\n",
      "4 lev downstream from 5lev, but 5000+ years later."
     ]
    },
    {
     "cell_type": "code",
     "collapsed": false,
     "input": [
      "#SSA model \n",
      "print ''\n",
      "print ''\n",
      "f = plt.figure()\n",
      "scale = 1.0e+3\n",
      "lev=5\n",
      "addfl(f,'data/MISMIPNG/lazyspinup/plot.ghgChannel.ssa.5lev.Chombo.359000.2d.hdf5',lev,scale,'red')\n",
      "lev=4\n",
      "addfl(f,'data/MISMIPNG/lazyspinup/plot.ghgChannel.ssa.4lev.Chombo.231000.2d.hdf5',lev,scale,'pink')\n",
      "lev=3\n",
      "addfl(f,'data/MISMIPNG/lazyspinup/plot.ghgChannel.ssa.3lev.Chombo.167000.2d.hdf5',lev,scale,'purple')\n",
      "lev=2\n",
      "addfl(f,'data/MISMIPNG/spinup/plot.ghgChannel.ssa.2lev.Chombo.100000.2d.hdf5',lev,scale,'blue')\n",
      "lev=1\n",
      "addfl(f,'data/MISMIPNG/spinup/plot.ghgChannel.ssa.1lev.Chombo.092000.2d.hdf5',lev,scale,'green')\n",
      "lev=0\n",
      "addfl(f,'data/MISMIPNG/spinup/plot.ghgChannel.ssa.0lev.Chombo.088000.2d.hdf5',lev,scale,'orange')\n",
      "\n",
      "plt.axis([1000,1300,-1200,500])"
     ],
     "language": "python",
     "metadata": {},
     "outputs": [
      {
       "output_type": "stream",
       "stream": "stdout",
       "text": [
        "\n",
        "\n",
        "time = "
       ]
      },
      {
       "output_type": "stream",
       "stream": "stdout",
       "text": [
        " 25601.1523438  lev =  5\n",
        "time = "
       ]
      },
      {
       "output_type": "stream",
       "stream": "stdout",
       "text": [
        " 28249.515625  lev =  4\n",
        "time = "
       ]
      },
      {
       "output_type": "stream",
       "stream": "stdout",
       "text": [
        " 26762.96875  lev =  3\n",
        "time = "
       ]
      },
      {
       "output_type": "stream",
       "stream": "stdout",
       "text": [
        " 26768.5  lev =  2\n",
        "time =  34477.125  lev =  1\n",
        "time =  49937.5  lev =  0\n"
       ]
      },
      {
       "metadata": {},
       "output_type": "pyout",
       "prompt_number": 8,
       "text": [
        "[1000, 1300, -1200, 500]"
       ]
      },
      {
       "metadata": {},
       "output_type": "display_data",
       "png": "[encoded data removed]",
       "text": [
        "<matplotlib.figure.Figure at 0x2211f50>"
       ]
      }
     ],
     "prompt_number": 8
    },
    {
     "cell_type": "markdown",
     "metadata": {},
     "source": [
      "Need more time on 2lev-5lev. Jobs submitted on newblue.\n",
      "\n",
      "Convergence looks a bit confused from 3 lev on, but 4lev is 3000 years further on than 5lev"
     ]
    },
    {
     "cell_type": "code",
     "collapsed": false,
     "input": [],
     "language": "python",
     "metadata": {},
     "outputs": [],
     "prompt_number": 3
    }
   ],
   "metadata": {}
  }
 ]
}